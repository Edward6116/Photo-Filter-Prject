{
 "cells": [
  {
   "cell_type": "code",
   "execution_count": 3,
   "metadata": {},
   "outputs": [
    {
     "ename": "SyntaxError",
     "evalue": "invalid syntax (<ipython-input-3-184a997b650e>, line 34)",
     "output_type": "error",
     "traceback": [
      "\u001b[1;36m  File \u001b[1;32m\"<ipython-input-3-184a997b650e>\"\u001b[1;36m, line \u001b[1;32m34\u001b[0m\n\u001b[1;33m    elif color.lower() == 'green':\u001b[0m\n\u001b[1;37m       ^\u001b[0m\n\u001b[1;31mSyntaxError\u001b[0m\u001b[1;31m:\u001b[0m invalid syntax\n"
     ]
    }
   ],
   "source": [
    "%matplotlib inline\n",
    "import PIL\n",
    "import matplotlib.pyplot as plt \n",
    "import os.path\n",
    "import numpy as np\n",
    "import random\n",
    "\n",
    "\n",
    "\n",
    "def edit():\n",
    "    global edit\n",
    "    image = raw_input(\"Please input the name of a jpg you'ld like to edit.\\n\")\n",
    "    \n",
    "    edit = int(raw_input(\"How would you like to edit your image?\\n If you would like a color change, press 1.\\n If you want The Rock to be in the picture, press 2.\\n If you would like to lower the quality to insane amounts, press 3.\\n If you would like a cowboy hat, press 4.\\n If you would like a rounded frame, press 5.\\n If you would like it to be black and white, press 6.\\n Lastly, if you would like to Have the Glarner Knight logo in the picture, press 7.\"))\n",
    "    print \"CP 1\"\n",
    "    if edit == 1:\n",
    "        color = raw_input(\"What could of the rainbow would you like?\\n\")\n",
    "        print \"CP 2\"\n",
    "        '''Change To Red'''\n",
    "        if color.lower == 'red':\n",
    "            print \"CP 3\"\n",
    "            directory = os.getcwd()\n",
    "            filename = os.path.join(directory, str(image)+'.jpg')\n",
    "            img = plt.imread(filename)\n",
    "            img.setflags(write=1)\n",
    "            height = len(img)\n",
    "            width = len(img[0])\n",
    "            for r in range(196):\n",
    "                for c in range(width):\n",
    "                    if sum(img[r][c])>500:\n",
    "                        img[r][c]=[255,0,0]\n",
    "                        print \"CP 4\"\n",
    "        '''Change To Green'''\n",
    "        elif color.lower() == 'green':\n",
    "            print \"CP 5\"\n",
    "            \n",
    "    fig, ax = plt.subplots(1, 1)\n",
    "    ax.imshow(img, interpolation='none')\n",
    "\n",
    "\n",
    "    fig.show()\n",
    "    \n",
    "edit()"
   ]
  },
  {
   "cell_type": "code",
   "execution_count": null,
   "metadata": {},
   "outputs": [],
   "source": []
  }
 ],
 "metadata": {
  "kernelspec": {
   "display_name": "Python 2",
   "language": "python",
   "name": "python2"
  },
  "language_info": {
   "codemirror_mode": {
    "name": "ipython",
    "version": 2
   },
   "file_extension": ".py",
   "mimetype": "text/x-python",
   "name": "python",
   "nbconvert_exporter": "python",
   "pygments_lexer": "ipython2",
   "version": "2.7.15"
  }
 },
 "nbformat": 4,
 "nbformat_minor": 2
}
