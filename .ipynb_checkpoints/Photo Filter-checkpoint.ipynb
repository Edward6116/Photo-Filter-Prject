{
 "cells": [
  {
   "cell_type": "code",
   "execution_count": 3,
   "metadata": {},
   "outputs": [
    {
     "ename": "SyntaxError",
     "evalue": "invalid syntax (<ipython-input-3-670d3a02b920>, line 31)",
     "output_type": "error",
     "traceback": [
      "\u001b[1;36m  File \u001b[1;32m\"<ipython-input-3-670d3a02b920>\"\u001b[1;36m, line \u001b[1;32m31\u001b[0m\n\u001b[1;33m    elif color.lower == green:\u001b[0m\n\u001b[1;37m       ^\u001b[0m\n\u001b[1;31mSyntaxError\u001b[0m\u001b[1;31m:\u001b[0m invalid syntax\n"
     ]
    }
   ],
   "source": [
    "%matplotlib inline\n",
    "import PIL\n",
    "import matplotlib.pyplot as plt \n",
    "import os.path\n",
    "import numpy as np\n",
    "import random\n",
    "\n",
    "\n",
    "\n",
    "def edit():\n",
    "    global edit\n",
    "    image = raw_input(\"Please input the name of a jpg you'ld like to edit.\\n\")\n",
    "    \n",
    "    edit = raw_input(\"How would you like to edit your image?\\n If you would like a color change, press 1.\\n If you want The Rock to be in the picture, press 2.\\n If you would like to lower the quality to insane amounts, press 3.\\n If you would like a cowboy hat, press 4.\\n If you would like a rounded frame, press 5.\\n If you would like it to be black and white, press 6.\\n Lastly, if you would like to Have the Glarner Knight logo in the picture, press 7.\")\n",
    "\n",
    "    if edit == 1:\n",
    "        color = raw_input(\"What could of the rainbow would you like?\")\n",
    "        '''Change To Red'''\n",
    "        if color.lower == red:\n",
    "            directory = os.getcwd()\n",
    "            filename = os.path.join(directory, str(image)+'.jpg')\n",
    "            img = plt.imread(filename)\n",
    "            img.setflags(write=1)\n",
    "            height = len(img)\n",
    "            width = len(img[0])\n",
    "            for r in range(960):\n",
    "                for c in range(width):\n",
    "                    if sum(img[r][c])>500:\n",
    "                        img[r][c]=[255,0,0]\n",
    "        '''Change To Green'''\n",
    "        elif color.lower == green:\n",
    "            directory = os.getcwd()\n",
    "            filename = os.path.join(directory, str(image)+'.jpg')\n",
    "            img = plt.imread(filename)\n",
    "            img.setflags(write=1)\n",
    "            height = len(img)\n",
    "            width = len(img[0])\n",
    "            for r in range(960):\n",
    "                for c in range(width):\n",
    "                    if sum(img[r][c])>500:\n",
    "                        img[r][c]=[0,255,0]\n",
    "        '''Change To Blue'''\n",
    "        elif color.lower == blue:\n",
    "            directory = os.getcwd()\n",
    "            filename = os.path.join(directory, str(image)+'.jpg')\n",
    "            img = plt.imread(filename)\n",
    "            img.setflags(write=1)\n",
    "            height = len(img)\n",
    "            width = len(img[0])\n",
    "            for r in range(960):\n",
    "                for c in range(width):\n",
    "                    if sum(img[r][c])>500:\n",
    "                        img[r][c]=[0,0,255]\n",
    "        '''Change To Yellow'''\n",
    "        elif color.lower == yellow:\n",
    "            directory = os.getcwd()\n",
    "            filename = os.path.join(directory, str(image)+'.jpg')\n",
    "            img = plt.imread(filename)\n",
    "            img.setflags(write=1)\n",
    "            height = len(img)\n",
    "            width = len(img[0])\n",
    "            for r in range(960):\n",
    "                for c in range(width):\n",
    "                    if sum(img[r][c])>500:\n",
    "                        img[r][c]=[255,255,51]\n",
    "        '''Change To Violet'''\n",
    "        elif color.lower == violet:\n",
    "            directory = os.getcwd()\n",
    "            filename = os.path.join(directory, str(image)+'.jpg')\n",
    "            img = plt.imread(filename)\n",
    "            img.setflags(write=1)\n",
    "            height = len(img)\n",
    "            width = len(img[0])\n",
    "            for r in range(960):\n",
    "                for c in range(width):\n",
    "                    if sum(img[r][c])>500:\n",
    "                        img[r][c]=[153,0,153]\n",
    "        '''Change To Orange'''\n",
    "        elif color.lower == orange:\n",
    "            directory = os.getcwd()\n",
    "            filename = os.path.join(directory, str(image)+'.jpg')\n",
    "            img = plt.imread(filename)\n",
    "            img.setflags(write=1)\n",
    "            height = len(img)\n",
    "            width = len(img[0])\n",
    "            for r in range(960):\n",
    "                for c in range(width):\n",
    "                    if sum(img[r][c])>500:\n",
    "                        img[r][c]=[255,153,0]\n",
    "\n",
    "    fig, ax = plt.subplots(1, 1)\n",
    "    ax.imshow(img, interpolation='none')\n",
    "\n",
    "\n",
    "    fig.show()"
   ]
  },
  {
   "cell_type": "code",
   "execution_count": null,
   "metadata": {},
   "outputs": [],
   "source": []
  },
  {
   "cell_type": "code",
   "execution_count": 7,
   "metadata": {},
   "outputs": [
    {
     "name": "stdout",
     "output_type": "stream",
     "text": [
      "Please input the name of a jpg you'ld like to edit.\n",
      "Test\n",
      "How would you like to edit your image?\n",
      " If you would like a color change, press 1.\n",
      " If you want The Rock to be in the picture, press 2.\n",
      " If you would like to lower the quality to insane amounts, press 3.\n",
      " If you would like a cowboy hat, press 4.\n",
      " If you would like a rounded frame, press 5.\n",
      " If you would like it to be black and white, press 6.\n",
      " Lastly, if you would like to Have the Glarner Knight logo in the picture, press 7.\n",
      "1\n"
     ]
    },
    {
     "ename": "UnboundLocalError",
     "evalue": "local variable 'img' referenced before assignment",
     "output_type": "error",
     "traceback": [
      "\u001b[1;31m---------------------------------------------------------------------------\u001b[0m",
      "\u001b[1;31mUnboundLocalError\u001b[0m                         Traceback (most recent call last)",
      "\u001b[1;32m<ipython-input-7-f88210f9626d>\u001b[0m in \u001b[0;36m<module>\u001b[1;34m()\u001b[0m\n\u001b[0;32m     35\u001b[0m     \u001b[0mfig\u001b[0m\u001b[1;33m.\u001b[0m\u001b[0mshow\u001b[0m\u001b[1;33m(\u001b[0m\u001b[1;33m)\u001b[0m\u001b[1;33m\u001b[0m\u001b[0m\n\u001b[0;32m     36\u001b[0m \u001b[1;33m\u001b[0m\u001b[0m\n\u001b[1;32m---> 37\u001b[1;33m \u001b[0medit\u001b[0m\u001b[1;33m(\u001b[0m\u001b[1;33m)\u001b[0m\u001b[1;33m\u001b[0m\u001b[0m\n\u001b[0m",
      "\u001b[1;32m<ipython-input-7-f88210f9626d>\u001b[0m in \u001b[0;36medit\u001b[1;34m()\u001b[0m\n\u001b[0;32m     30\u001b[0m \u001b[1;33m\u001b[0m\u001b[0m\n\u001b[0;32m     31\u001b[0m     \u001b[0mfig\u001b[0m\u001b[1;33m,\u001b[0m \u001b[0max\u001b[0m \u001b[1;33m=\u001b[0m \u001b[0mplt\u001b[0m\u001b[1;33m.\u001b[0m\u001b[0msubplots\u001b[0m\u001b[1;33m(\u001b[0m\u001b[1;36m1\u001b[0m\u001b[1;33m,\u001b[0m \u001b[1;36m1\u001b[0m\u001b[1;33m)\u001b[0m\u001b[1;33m\u001b[0m\u001b[0m\n\u001b[1;32m---> 32\u001b[1;33m     \u001b[0max\u001b[0m\u001b[1;33m.\u001b[0m\u001b[0mimshow\u001b[0m\u001b[1;33m(\u001b[0m\u001b[0mimg\u001b[0m\u001b[1;33m,\u001b[0m \u001b[0minterpolation\u001b[0m\u001b[1;33m=\u001b[0m\u001b[1;34m'none'\u001b[0m\u001b[1;33m)\u001b[0m\u001b[1;33m\u001b[0m\u001b[0m\n\u001b[0m\u001b[0;32m     33\u001b[0m \u001b[1;33m\u001b[0m\u001b[0m\n\u001b[0;32m     34\u001b[0m \u001b[1;33m\u001b[0m\u001b[0m\n",
      "\u001b[1;31mUnboundLocalError\u001b[0m: local variable 'img' referenced before assignment"
     ]
    },
    {
     "data": {
      "image/png": "[encoded data removed]",
      "text/plain": [
       "<Figure size 432x288 with 1 Axes>"
      ]
     },
     "metadata": {},
     "output_type": "display_data"
    }
   ],
   "source": [
    "%matplotlib inline\n",
    "import PIL\n",
    "import matplotlib.pyplot as plt \n",
    "import os.path\n",
    "import numpy as np\n",
    "import random\n",
    "\n",
    "\n",
    "\n",
    "def edit():\n",
    "    global edit\n",
    "    image = raw_input(\"Please input the name of a jpg you'ld like to edit.\\n\")\n",
    "    \n",
    "    edit = raw_input(\"How would you like to edit your image?\\n If you would like a color change, press 1.\\n If you want The Rock to be in the picture, press 2.\\n If you would like to lower the quality to insane amounts, press 3.\\n If you would like a cowboy hat, press 4.\\n If you would like a rounded frame, press 5.\\n If you would like it to be black and white, press 6.\\n Lastly, if you would like to Have the Glarner Knight logo in the picture, press 7.\\n\")\n",
    "\n",
    "    if edit == 1:\n",
    "        color = raw_input(\"What could of the rainbow would you like?\")\n",
    "        '''Change To Red'''\n",
    "        if color.lower == red:\n",
    "            directory = os.getcwd()\n",
    "            filename = os.path.join(directory, str(image)+'.jpg')\n",
    "            img = plt.imread(filename)\n",
    "            img.setflags(write=1)\n",
    "            height = len(img)\n",
    "            width = len(img[0])\n",
    "            for r in range(960):\n",
    "                for c in range(width):\n",
    "                    if sum(img[r][c])>500:\n",
    "                        img[r][c]=[255,0,0]\n",
    "            \n",
    "    fig, ax = plt.subplots(1, 1)\n",
    "    ax.imshow(img, interpolation='none')\n",
    "\n",
    "\n",
    "    fig.show()\n",
    "    \n",
    "edit()"
   ]
  },
  {
   "cell_type": "code",
   "execution_count": null,
   "metadata": {},
   "outputs": [],
   "source": []
  }
 ],
 "metadata": {
  "kernelspec": {
   "display_name": "Python 2",
   "language": "python",
   "name": "python2"
  },
  "language_info": {
   "codemirror_mode": {
    "name": "ipython",
    "version": 2
   },
   "file_extension": ".py",
   "mimetype": "text/x-python",
   "name": "python",
   "nbconvert_exporter": "python",
   "pygments_lexer": "ipython2",
   "version": "2.7.15"
  }
 },
 "nbformat": 4,
 "nbformat_minor": 2
}
